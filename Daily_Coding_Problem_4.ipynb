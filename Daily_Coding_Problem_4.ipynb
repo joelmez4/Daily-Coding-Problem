{
 "cells": [
  {
   "cell_type": "code",
   "execution_count": 90,
   "metadata": {},
   "outputs": [
    {
     "name": "stdout",
     "output_type": "stream",
     "text": [
      "4\n",
      "[3, 11, 40]\n"
     ]
    }
   ],
   "source": [
    "#Daily Coding Problem: Problem #4 [Hard]\n",
    "'''\n",
    "Good morning! Here's your coding interview problem for today.\n",
    "\n",
    "This problem was asked by Stripe.\n",
    "\n",
    "Given an array of integers, find the first missing positive integer in linear time and constant space. In other words, find the lowest positive integer that does not exist in the array. The array can contain duplicates and negative numbers as well.\n",
    "\n",
    "For example, the input [3, 4, -1, 1] should give 2. The input [1, 2, 0] should give 3.\n",
    "\n",
    "You can modify the input array in-place.\n",
    "'''\n",
    "#Solutions\n",
    "\n",
    "#a = [3, 4, -1, 1]\n",
    "a = [3, 40, -1, 11, -90, -98]\n",
    "a_sorted = sorted(a)\n",
    "r = []\n",
    "\n",
    "for index in range(len(a_sorted)) :\n",
    "    \n",
    "    if (a_sorted[index] > 0) :\n",
    "        r.append(a_sorted[index])\n",
    "        \n",
    "\n",
    "c = r[0]\n",
    "for i in range(len(r)) : \n",
    "    \n",
    "    if(r[i] != c) :\n",
    "        result = c\n",
    "        break\n",
    "    c+=1\n",
    "    \n",
    "print(result)\n",
    "print(r)\n",
    "    \n",
    "\n"
   ]
  },
  {
   "cell_type": "code",
   "execution_count": null,
   "metadata": {},
   "outputs": [],
   "source": []
  },
  {
   "cell_type": "code",
   "execution_count": null,
   "metadata": {},
   "outputs": [],
   "source": []
  },
  {
   "cell_type": "code",
   "execution_count": null,
   "metadata": {},
   "outputs": [],
   "source": []
  }
 ],
 "metadata": {
  "kernelspec": {
   "display_name": "Python 3",
   "language": "python",
   "name": "python3"
  },
  "language_info": {
   "codemirror_mode": {
    "name": "ipython",
    "version": 3
   },
   "file_extension": ".py",
   "mimetype": "text/x-python",
   "name": "python",
   "nbconvert_exporter": "python",
   "pygments_lexer": "ipython3",
   "version": "3.6.5"
  }
 },
 "nbformat": 4,
 "nbformat_minor": 2
}
