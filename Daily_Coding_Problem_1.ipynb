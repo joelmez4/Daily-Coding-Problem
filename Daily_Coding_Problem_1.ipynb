{
 "cells": [
  {
   "cell_type": "code",
   "execution_count": 48,
   "metadata": {},
   "outputs": [
    {
     "name": "stdout",
     "output_type": "stream",
     "text": [
      "\n",
      " 25\n",
      "\n",
      " 13\n",
      "Solution founded\n",
      "\n",
      " 17\n",
      "*****\n",
      "\n",
      " 25\n",
      "\n",
      " 18\n",
      "\n",
      " 22\n",
      "*****\n",
      "\n",
      " 13\n",
      "\n",
      " 18\n",
      "\n",
      " 10\n",
      "*****\n",
      "Solution founded\n",
      "\n",
      " 17\n",
      "\n",
      " 22\n",
      "\n",
      " 10\n",
      "*****\n",
      "Result:  True\n"
     ]
    }
   ],
   "source": [
    "#Daily Coding Problem: Problem #1 [Easy]\n",
    "'''\n",
    "Good morning! Here's your coding interview problem for today.\n",
    "\n",
    "This problem was recently asked by Google.\n",
    "\n",
    "Given a list of numbers and a number k, return whether any two numbers from the list add up to k.\n",
    "\n",
    "For example, given [10, 15, 3, 7] and k of 17, return true since 10 + 7 is 17.\n",
    "\n",
    "Bonus: Can you do this in one pass?\n",
    "'''\n",
    "#SOolutions\n",
    "\n",
    "\n",
    "List = [10, 15, 3, 7]\n",
    "k = 17\n",
    "flag = False\n",
    "\n",
    "for index in range(len(List)) :\n",
    "    for index2 in range(len(List)) :\n",
    "        if (index  != index2) :\n",
    "            r = List[index] + List[index2]\n",
    "            if r == k :\n",
    "                print(\"Solution founded\")\n",
    "                flag = True\n",
    "            print(\"\\n\",r)\n",
    "    print(\"*****\")\n",
    "\n",
    "print(\"Result: \", flag)\n"
   ]
  },
  {
   "cell_type": "code",
   "execution_count": null,
   "metadata": {},
   "outputs": [],
   "source": []
  }
 ],
 "metadata": {
  "kernelspec": {
   "display_name": "Python 3",
   "language": "python",
   "name": "python3"
  },
  "language_info": {
   "codemirror_mode": {
    "name": "ipython",
    "version": 3
   },
   "file_extension": ".py",
   "mimetype": "text/x-python",
   "name": "python",
   "nbconvert_exporter": "python",
   "pygments_lexer": "ipython3",
   "version": "3.6.5"
  }
 },
 "nbformat": 4,
 "nbformat_minor": 2
}
