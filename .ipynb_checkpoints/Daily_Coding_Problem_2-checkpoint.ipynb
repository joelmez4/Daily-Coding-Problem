{
 "cells": [
  {
   "cell_type": "code",
   "execution_count": 51,
   "metadata": {},
   "outputs": [
    {
     "name": "stdout",
     "output_type": "stream",
     "text": [
      "2\n",
      "6\n",
      "24\n",
      "120\n",
      "*****\n",
      "1\n",
      "3\n",
      "12\n",
      "60\n",
      "*****\n",
      "1\n",
      "2\n",
      "8\n",
      "40\n",
      "*****\n",
      "1\n",
      "2\n",
      "6\n",
      "30\n",
      "*****\n",
      "1\n",
      "2\n",
      "6\n",
      "24\n",
      "*****\n",
      "r:  [120, 60, 40, 30, 24]\n"
     ]
    }
   ],
   "source": [
    "# Daily Coding Problem: Problem #2 [Hard]\n",
    "'''\n",
    "Good morning! Here's your coding interview problem for today.\n",
    "\n",
    "This problem was asked by Uber.\n",
    "\n",
    "Given an array of integers, return a new array such that each element at index i of the new array is the product of all the numbers in the original array except the one at i.\n",
    "\n",
    "For example, if our input was [1, 2, 3, 4, 5], the expected output would be [120, 60, 40, 30, 24]. If our input was [3, 2, 1], the expected output would be [2, 3, 6].\n",
    "\n",
    "Follow-up: what if you can't use division?\n",
    "'''\n",
    "# Solutions \n",
    "a = [1, 2, 3, 4, 5]\n",
    "r = []\n",
    "c = 0\n",
    "\n",
    "for index in range(len(a)) :\n",
    "    prod = 1\n",
    "    for index2 in range(len(a)) :\n",
    "        if (index != index2) :\n",
    "            prod = prod * a[index2]\n",
    "            print(prod)\n",
    "            c = c + 1\n",
    "    print(\"*****\")\n",
    "    r.append(prod)\n",
    "print(\"r: \", r)\n",
    "    "
   ]
  }
 ],
 "metadata": {
  "kernelspec": {
   "display_name": "Python 3",
   "language": "python",
   "name": "python3"
  },
  "language_info": {
   "codemirror_mode": {
    "name": "ipython",
    "version": 3
   },
   "file_extension": ".py",
   "mimetype": "text/x-python",
   "name": "python",
   "nbconvert_exporter": "python",
   "pygments_lexer": "ipython3",
   "version": "3.6.5"
  }
 },
 "nbformat": 4,
 "nbformat_minor": 2
}
